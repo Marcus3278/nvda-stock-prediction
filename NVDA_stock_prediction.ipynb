# NVIDIA Stock Price Prediction

# Import necessary libraries
import pandas as pd
import yfinance as yf
import matplotlib.pyplot as plt

# Fetch historical data for NVIDIA (NVDA)
nvda_data = yf.download('NVDA', start='2010-01-01', end='2025-04-09')

# Display the first few rows of the data
nvda_data.head()

# Plot the closing price
plt.figure(figsize=(10, 6))
plt.plot(nvda_data['Close'], label='NVIDIA Closing Price')
plt.title('NVIDIA Stock Price')
plt.xlabel('Date')
plt.ylabel('Price')
plt.legend()
plt.show()
