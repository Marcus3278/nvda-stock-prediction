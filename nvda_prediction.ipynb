# NVIDIA Stock Price Prediction

This notebook will use historical stock data to predict NVIDIA's (NVDA) stock price for 2025.
